{
 "cells": [
  {
   "cell_type": "markdown",
   "metadata": {},
   "source": [
    "# Overfitting and Regularization\n",
    "\n",
    "We have seen some of the core dynamical properties of stochastic gradient descent already. With large, complex problems, frequently the biggest problem is preventing deep models from overfitting. Here we explore 3 important ways to do this."
   ]
  },
  {
   "cell_type": "code",
   "execution_count": 1,
   "metadata": {
    "collapsed": false
   },
   "outputs": [
    {
     "name": "stderr",
     "output_type": "stream",
     "text": [
      "Using TensorFlow backend.\n"
     ]
    }
   ],
   "source": [
    "%matplotlib inline\n",
    "\n",
    "import numpy as np\n",
    "import matplotlib.pyplot as plt\n",
    "from sklearn.datasets import make_blobs, make_circles\n",
    "from sklearn.model_selection import train_test_split\n",
    "from keras.models import Sequential\n",
    "from keras.layers import Dense, Activation, Dropout\n",
    "from keras.optimizers import SGD, RMSprop\n",
    "from keras.utils import np_utils"
   ]
  },
  {
   "cell_type": "markdown",
   "metadata": {},
   "source": [
    "## Preventing overfitting with regularization\n",
    "\n",
    "Below we will do some experiments to detect overfitting and explore some ways to prevent it.\n",
    "\n",
    "Scikit-learn includes a very small dataset of handwritten digits that we will experiment on."
   ]
  },
  {
   "cell_type": "code",
   "execution_count": 2,
   "metadata": {
    "collapsed": false
   },
   "outputs": [
    {
     "name": "stdout",
     "output_type": "stream",
     "text": [
      "(1797, 64)\n"
     ]
    }
   ],
   "source": [
    "from sklearn.datasets import load_digits\n",
    "digits = load_digits()\n",
    "print digits.data.shape\n",
    "\n",
    "y = np_utils.to_categorical(digits.target)\n",
    "X_train, X_test, y_train, y_test = train_test_split(digits.data, y)"
   ]
  },
  {
   "cell_type": "markdown",
   "metadata": {},
   "source": [
    "Take a look at some random digits in the dataset. They are very small images, 8px by 8px."
   ]
  },
  {
   "cell_type": "code",
   "execution_count": 3,
   "metadata": {
    "collapsed": false
   },
   "outputs": [
    {
     "data": {
      "text/plain": [
       "<matplotlib.image.AxesImage at 0x117a12b90>"
      ]
     },
     "execution_count": 3,
     "metadata": {},
     "output_type": "execute_result"
    },
    {
     "data": {
      "image/png": "[encoded data removed]",
      "text/plain": [
       "<matplotlib.figure.Figure at 0x1144f9810>"
      ]
     },
     "metadata": {},
     "output_type": "display_data"
    }
   ],
   "source": [
    "X = digits.data.reshape([len(digits.data), 8, 8])\n",
    "plt.imshow(X[np.random.randint(len(digits.data))], cmap='Greys')"
   ]
  },
  {
   "cell_type": "markdown",
   "metadata": {},
   "source": [
    "There are, naturally, 10 classes in this dataset. As a quick check: what is the worst possible accuracy a model can have on this dataset of 10 classes?\n",
    "\n",
    "### Validation data in Keras\n",
    "\n",
    "Below we create a model with a single hidden layer. We call the `model.fit` method below with the `validation_split` argument. This tells Keras to put aside a portion of the training data as a **validation set**. On every epoch, Keras will compute the loss on the validation set and save it on the history object so that we can inspect it.\n",
    "\n",
    "In this example, the validation split is set to be 98% of the data! So ony 2% is used for training. Clearly this isn't a good choice, but it does successfully simulate overfitting with a simple example that can train very quickly. Doing experiments like this, even exaggerated ones, is a good way to build intuition."
   ]
  },
  {
   "cell_type": "code",
   "execution_count": 4,
   "metadata": {
    "collapsed": false
   },
   "outputs": [
    {
     "name": "stdout",
     "output_type": "stream",
     "text": [
      "Train on 26 samples, validate on 1321 samples\n",
      "Epoch 1/20\n",
      "0s - loss: 12.6007 - acc: 0.0000e+00 - val_loss: 9.9702 - val_acc: 0.1128\n",
      "Epoch 2/20\n",
      "0s - loss: 8.5119 - acc: 0.1154 - val_loss: 6.0673 - val_acc: 0.1400\n",
      "Epoch 3/20\n",
      "0s - loss: 3.5188 - acc: 0.2308 - val_loss: 5.1242 - val_acc: 0.2188\n",
      "Epoch 4/20\n",
      "0s - loss: 2.8333 - acc: 0.5385 - val_loss: 4.6837 - val_acc: 0.2672\n",
      "Epoch 5/20\n",
      "0s - loss: 2.2635 - acc: 0.6154 - val_loss: 3.6265 - val_acc: 0.3126\n",
      "Epoch 6/20\n",
      "0s - loss: 1.1466 - acc: 0.7308 - val_loss: 3.5416 - val_acc: 0.3013\n",
      "Epoch 7/20\n",
      "0s - loss: 0.7881 - acc: 0.7692 - val_loss: 3.3673 - val_acc: 0.3361\n",
      "Epoch 8/20\n",
      "0s - loss: 0.6152 - acc: 0.8077 - val_loss: 3.2664 - val_acc: 0.3482\n",
      "Epoch 9/20\n",
      "0s - loss: 0.4127 - acc: 0.8846 - val_loss: 3.2060 - val_acc: 0.3528\n",
      "Epoch 10/20\n",
      "0s - loss: 0.2956 - acc: 0.9615 - val_loss: 3.1061 - val_acc: 0.3800\n",
      "Epoch 11/20\n",
      "0s - loss: 0.2668 - acc: 0.9615 - val_loss: 3.0680 - val_acc: 0.4126\n",
      "Epoch 12/20\n",
      "0s - loss: 0.2451 - acc: 0.9231 - val_loss: 3.0262 - val_acc: 0.4058\n",
      "Epoch 13/20\n",
      "0s - loss: 0.1526 - acc: 1.0000 - val_loss: 2.9914 - val_acc: 0.4065\n",
      "Epoch 14/20\n",
      "0s - loss: 0.1315 - acc: 1.0000 - val_loss: 2.9903 - val_acc: 0.4141\n",
      "Epoch 15/20\n",
      "0s - loss: 0.1135 - acc: 1.0000 - val_loss: 2.9516 - val_acc: 0.4239\n",
      "Epoch 16/20\n",
      "0s - loss: 0.1037 - acc: 1.0000 - val_loss: 2.9723 - val_acc: 0.4300\n",
      "Epoch 17/20\n",
      "0s - loss: 0.0940 - acc: 1.0000 - val_loss: 2.9718 - val_acc: 0.4330\n",
      "Epoch 18/20\n",
      "0s - loss: 0.0834 - acc: 1.0000 - val_loss: 2.9496 - val_acc: 0.4330\n",
      "Epoch 19/20\n",
      "0s - loss: 0.0789 - acc: 1.0000 - val_loss: 2.9434 - val_acc: 0.4398\n",
      "Epoch 20/20\n",
      "0s - loss: 0.0741 - acc: 1.0000 - val_loss: 2.9333 - val_acc: 0.4398\n",
      "Test set loss:  2.46869211475\n",
      "Test set accuracy:  0.497777777778\n"
     ]
    }
   ],
   "source": [
    "model0 = Sequential()\n",
    "model0.add(Dense(32, input_dim=64))\n",
    "model0.add(Activation('relu'))\n",
    "model0.add(Dense(10))\n",
    "model0.add(Activation('softmax'))\n",
    "\n",
    "sgd = SGD(lr=0.01)\n",
    "model0.compile(loss='categorical_crossentropy',\n",
    "               optimizer=sgd,\n",
    "               metrics=['accuracy'])\n",
    "\n",
    "history0 = model0.fit(X_train, y_train, nb_epoch=20,\n",
    "                      batch_size=16, verbose=2,\n",
    "                      validation_split=0.98)\n",
    "\n",
    "result = model0.evaluate(X_test, y_test, verbose=0)\n",
    "print 'Test set loss: ', result[0]\n",
    "print 'Test set accuracy: ', result[1]"
   ]
  },
  {
   "cell_type": "markdown",
   "metadata": {},
   "source": [
    "Let's modify our `plot_loss` function to plot the validation loss in red."
   ]
  },
  {
   "cell_type": "code",
   "execution_count": 5,
   "metadata": {
    "collapsed": false
   },
   "outputs": [
    {
     "data": {
      "image/png": "[encoded data removed]",
      "text/plain": [
       "<matplotlib.figure.Figure at 0x117a40290>"
      ]
     },
     "metadata": {},
     "output_type": "display_data"
    }
   ],
   "source": [
    "def plot_loss(hist, val=False):\n",
    "    loss = hist.history['loss']\n",
    "    val_loss= hist.history['val_loss']\n",
    "    plt.plot(range(len(loss)), loss, 'b', val_loss, 'r')\n",
    "    \n",
    "plot_loss(history0, val=True)"
   ]
  },
  {
   "cell_type": "markdown",
   "metadata": {},
   "source": [
    "This technique of of visualizing the validation loss enables us to see that we are overfitting even very early. The test accuracy is probably very poor.\n",
    "\n",
    "\n",
    "## 1. More data\n",
    "\n",
    "The best way to fight overfitting is to provide more data.\n",
    "\n",
    "- - -\n",
    "### Exercise 1 - More data\n",
    "\n",
    "This is an easy one: retrain the model with a reasonable validation split. Does the model still overfit? How can you tell from comparing the plot of this model with the previous plot that the problem is not as bad?\n",
    "\n",
    "The model is replicated below as `model1`.\n",
    "- - -"
   ]
  },
  {
   "cell_type": "code",
   "execution_count": 7,
   "metadata": {
    "collapsed": false
   },
   "outputs": [
    {
     "name": "stdout",
     "output_type": "stream",
     "text": [
      "Train on 134 samples, validate on 1213 samples\n",
      "Epoch 1/20\n",
      "0s - loss: 10.4802 - acc: 0.0896 - val_loss: 7.5664 - val_acc: 0.2984\n",
      "Epoch 2/20\n",
      "0s - loss: 5.9774 - acc: 0.3507 - val_loss: 4.0127 - val_acc: 0.4073\n",
      "Epoch 3/20\n",
      "0s - loss: 3.2281 - acc: 0.5000 - val_loss: 3.2747 - val_acc: 0.4444\n",
      "Epoch 4/20\n",
      "0s - loss: 2.0379 - acc: 0.6791 - val_loss: 3.1370 - val_acc: 0.4716\n",
      "Epoch 5/20\n",
      "0s - loss: 1.8724 - acc: 0.7239 - val_loss: 2.4832 - val_acc: 0.6661\n",
      "Epoch 6/20\n",
      "0s - loss: 1.7040 - acc: 0.7985 - val_loss: 2.4352 - val_acc: 0.6752\n",
      "Epoch 7/20\n",
      "0s - loss: 1.5524 - acc: 0.8060 - val_loss: 2.2411 - val_acc: 0.7263\n",
      "Epoch 8/20\n",
      "0s - loss: 1.4853 - acc: 0.8507 - val_loss: 2.2064 - val_acc: 0.7370\n",
      "Epoch 9/20\n",
      "0s - loss: 1.4184 - acc: 0.8507 - val_loss: 2.2125 - val_acc: 0.7486\n",
      "Epoch 10/20\n",
      "0s - loss: 1.4029 - acc: 0.8507 - val_loss: 2.2054 - val_acc: 0.7395\n",
      "Epoch 11/20\n",
      "0s - loss: 1.3625 - acc: 0.8806 - val_loss: 2.3477 - val_acc: 0.6900\n",
      "Epoch 12/20\n",
      "0s - loss: 1.3554 - acc: 0.8731 - val_loss: 2.1852 - val_acc: 0.7420\n",
      "Epoch 13/20\n",
      "0s - loss: 1.3214 - acc: 0.9030 - val_loss: 2.1625 - val_acc: 0.7527\n",
      "Epoch 14/20\n",
      "0s - loss: 1.2989 - acc: 0.9104 - val_loss: 2.1994 - val_acc: 0.7420\n",
      "Epoch 15/20\n",
      "0s - loss: 1.2909 - acc: 0.9030 - val_loss: 2.1775 - val_acc: 0.7469\n",
      "Epoch 16/20\n",
      "0s - loss: 1.2709 - acc: 0.9254 - val_loss: 2.1094 - val_acc: 0.7873\n",
      "Epoch 17/20\n",
      "0s - loss: 1.2603 - acc: 0.9254 - val_loss: 2.1500 - val_acc: 0.7601\n",
      "Epoch 18/20\n",
      "0s - loss: 1.2588 - acc: 0.9179 - val_loss: 2.1228 - val_acc: 0.7700\n",
      "Epoch 19/20\n",
      "0s - loss: 1.2544 - acc: 0.9254 - val_loss: 2.1012 - val_acc: 0.7832\n",
      "Epoch 20/20\n",
      "0s - loss: 1.2442 - acc: 0.9254 - val_loss: 2.0931 - val_acc: 0.7840\n",
      "Test set loss:  1.83766584795\n",
      "Test set accuracy:  0.82\n"
     ]
    },
    {
     "data": {
      "image/png": "[encoded data removed]",
      "text/plain": [
       "<matplotlib.figure.Figure at 0x118a4e390>"
      ]
     },
     "metadata": {},
     "output_type": "display_data"
    }
   ],
   "source": [
    "# Add more data by adjusting the validation_split\n",
    "model1 = Sequential()\n",
    "model1.add(Dense(32, input_dim=64))\n",
    "model1.add(Activation('relu'))\n",
    "model1.add(Dense(10))\n",
    "model1.add(Activation('softmax'))\n",
    "\n",
    "sgd = SGD(lr=0.01)\n",
    "model1.compile(loss='categorical_crossentropy',\n",
    "               optimizer=sgd,\n",
    "               metrics=['accuracy'])\n",
    "\n",
    "history1 = model1.fit(X_train, y_train, nb_epoch=20,\n",
    "                      batch_size=16, verbose=2,\n",
    "                      validation_split=0.90) # Adjust the validation split\n",
    "\n",
    "result = model1.evaluate(X_test, y_test, verbose=0)\n",
    "print 'Test set loss: ', result[0]\n",
    "print 'Test set accuracy: ', result[1]\n",
    "\n",
    "plot_loss(history1, val=True)"
   ]
  },
  {
   "cell_type": "markdown",
   "metadata": {},
   "source": [
    "## 2. Weight regularization\n",
    "\n",
    "A very common way to prevent overfitting is to extend the loss function to encourage weights to generally be small. Large weights often mean that the model is \"memorizing\" the training data. Adding weight regularization is a great way to prevent this.\n",
    "\n",
    "- - -\n",
    "### Exercise 2 - Add L2 weight regularization\n",
    "\n",
    "Let's pretend that we can't simply change the `validation_split`. Add L2 weight regularization to both `Dense` layers in `model2` below. Refer to the [documentation](http://keras.io/regularizers/) to see how to do this.\n",
    "\n",
    "You will probably need to do a few runs to find a value of the regularization parameter that works well. Can you get the model reliably to get near 60% on the test set?\n",
    "\n",
    "Note: when you plot that loss, Keras does not include the weight regularization in the validation loss.\n",
    "- - -"
   ]
  },
  {
   "cell_type": "code",
   "execution_count": 14,
   "metadata": {
    "collapsed": false
   },
   "outputs": [
    {
     "name": "stdout",
     "output_type": "stream",
     "text": [
      "Train on 808 samples, validate on 539 samples\n",
      "Epoch 1/20\n",
      "0s - loss: 2.9184 - acc: 0.4691 - val_loss: 1.1513 - val_acc: 0.6586\n",
      "Epoch 2/20\n",
      "0s - loss: 0.6473 - acc: 0.8069 - val_loss: 0.6570 - val_acc: 0.8200\n",
      "Epoch 3/20\n",
      "0s - loss: 0.4156 - acc: 0.8837 - val_loss: 0.4859 - val_acc: 0.8794\n",
      "Epoch 4/20\n",
      "0s - loss: 0.3263 - acc: 0.9171 - val_loss: 0.4343 - val_acc: 0.8961\n",
      "Epoch 5/20\n",
      "0s - loss: 0.2683 - acc: 0.9369 - val_loss: 0.4493 - val_acc: 0.8664\n",
      "Epoch 6/20\n",
      "0s - loss: 0.2366 - acc: 0.9530 - val_loss: 0.3399 - val_acc: 0.9184\n",
      "Epoch 7/20\n",
      "0s - loss: 0.2014 - acc: 0.9641 - val_loss: 0.4204 - val_acc: 0.8831\n",
      "Epoch 8/20\n",
      "0s - loss: 0.1807 - acc: 0.9616 - val_loss: 0.3403 - val_acc: 0.9184\n",
      "Epoch 9/20\n",
      "0s - loss: 0.1624 - acc: 0.9728 - val_loss: 0.3358 - val_acc: 0.9165\n",
      "Epoch 10/20\n",
      "0s - loss: 0.1542 - acc: 0.9703 - val_loss: 0.3118 - val_acc: 0.9221\n",
      "Epoch 11/20\n",
      "0s - loss: 0.1422 - acc: 0.9827 - val_loss: 0.3043 - val_acc: 0.9351\n",
      "Epoch 12/20\n",
      "0s - loss: 0.1375 - acc: 0.9802 - val_loss: 0.2907 - val_acc: 0.9295\n",
      "Epoch 13/20\n",
      "0s - loss: 0.1260 - acc: 0.9827 - val_loss: 0.2805 - val_acc: 0.9276\n",
      "Epoch 14/20\n",
      "0s - loss: 0.1185 - acc: 0.9913 - val_loss: 0.2847 - val_acc: 0.9258\n",
      "Epoch 15/20\n",
      "0s - loss: 0.1157 - acc: 0.9913 - val_loss: 0.2645 - val_acc: 0.9351\n",
      "Epoch 16/20\n",
      "0s - loss: 0.1083 - acc: 0.9913 - val_loss: 0.2690 - val_acc: 0.9351\n",
      "Epoch 17/20\n",
      "0s - loss: 0.1093 - acc: 0.9913 - val_loss: 0.2922 - val_acc: 0.9314\n",
      "Epoch 18/20\n",
      "0s - loss: 0.1077 - acc: 0.9938 - val_loss: 0.2527 - val_acc: 0.9369\n",
      "Epoch 19/20\n",
      "0s - loss: 0.0996 - acc: 0.9938 - val_loss: 0.2580 - val_acc: 0.9425\n",
      "Epoch 20/20\n",
      "0s - loss: 0.0969 - acc: 0.9938 - val_loss: 0.2519 - val_acc: 0.9406\n",
      "Test set loss:  0.172721607619\n",
      "Test set accuracy:  0.955555555556\n"
     ]
    },
    {
     "data": {
      "image/png": "[encoded data removed]",
      "text/plain": [
       "<matplotlib.figure.Figure at 0x11b29df90>"
      ]
     },
     "metadata": {},
     "output_type": "display_data"
    }
   ],
   "source": [
    "# Add L2 weight regularization\n",
    "from keras.regularizers import l2\n",
    "\n",
    "model2 = Sequential()\n",
    "model2.add(Dense(32, input_dim=64,W_regularizer=l2(0.001)))\n",
    "model2.add(Activation('relu'))\n",
    "model2.add(Dense(10,W_regularizer=l2(0.001)))\n",
    "model2.add(Activation('softmax'))\n",
    "\n",
    "sgd = SGD(lr=0.01)\n",
    "model2.compile(loss='categorical_crossentropy',\n",
    "               optimizer=sgd,\n",
    "               metrics=['accuracy'])\n",
    "\n",
    "history2 = model2.fit(X_train, y_train, nb_epoch=20,\n",
    "                      batch_size=16, verbose=2,\n",
    "                      validation_split=0.40)\n",
    "\n",
    "result = model2.evaluate(X_test, y_test, verbose=0)\n",
    "print 'Test set loss: ', result[0]\n",
    "print 'Test set accuracy: ', result[1]\n",
    "\n",
    "plot_loss(history2, val=True)"
   ]
  },
  {
   "cell_type": "markdown",
   "metadata": {},
   "source": [
    "## 3. Dropout regularization\n",
    "\n",
    "- - -\n",
    "### Exercise 3 - Add Dropout\n",
    "\n",
    "We are using more data and training for longer in the snippet below, but otherwise the model is the same. Run it before modification to see it's behavior.\n",
    "\n",
    "Refer to the [documentation](http://keras.io/layers/core/#dropout) to add dropout on the hidden layer on the model below.\n",
    "\n",
    "You should be able to find a dropout parameter that virtually eliminates overfitting as seen in the loss plot. As usually, doing multiple experiments is the best way to build intuition.\n",
    "\n",
    "Note: In this example, since we are not overfitting particularly badly, you might not see noticeable improvement on the test accuracy. Since dropout zeros out activations, it would take more epoch for each weight to get the same number of gradient updates as without dropout.\n",
    "- - -"
   ]
  },
  {
   "cell_type": "code",
   "execution_count": 21,
   "metadata": {
    "collapsed": false
   },
   "outputs": [
    {
     "name": "stdout",
     "output_type": "stream",
     "text": [
      "Test set loss:  0.134306593668\n",
      "Test set accuracy:  0.973333333333\n"
     ]
    },
    {
     "data": {
      "image/png": "[encoded data removed]",
      "text/plain": [
       "<matplotlib.figure.Figure at 0x11c1c04d0>"
      ]
     },
     "metadata": {},
     "output_type": "display_data"
    }
   ],
   "source": [
    "# Add dropout on the hidden layer\n",
    "\n",
    "from keras.layers.core import Dropout\n",
    "\n",
    "\n",
    "model3 = Sequential()\n",
    "model3.add(Dense(32, input_dim=64))\n",
    "model3.add(Dropout(0.15))\n",
    "model3.add(Activation('relu'))\n",
    "model3.add(Dense(10))\n",
    "model3.add(Activation('softmax'))\n",
    "\n",
    "sgd = SGD(lr=0.01)\n",
    "model3.compile(loss='categorical_crossentropy',\n",
    "               optimizer=sgd,\n",
    "               metrics=['accuracy'])\n",
    "\n",
    "history3 = model3.fit(X_train, y_train, nb_epoch=60,\n",
    "                      batch_size=16, verbose=0,\n",
    "                      validation_split=0.6)\n",
    "\n",
    "result = model3.evaluate(X_test, y_test, verbose=0)\n",
    "print 'Test set loss: ', result[0]\n",
    "print 'Test set accuracy: ', result[1]\n",
    "\n",
    "\n",
    "plot_loss(history3, val=True)"
   ]
  },
  {
   "cell_type": "code",
   "execution_count": null,
   "metadata": {
    "collapsed": true
   },
   "outputs": [],
   "source": []
  }
 ],
 "metadata": {
  "anaconda-cloud": {},
  "kernelspec": {
   "display_name": "Python 2",
   "language": "python",
   "name": "python2"
  },
  "language_info": {
   "codemirror_mode": {
    "name": "ipython",
    "version": 2
   },
   "file_extension": ".py",
   "mimetype": "text/x-python",
   "name": "python",
   "nbconvert_exporter": "python",
   "pygments_lexer": "ipython2",
   "version": "2.7.13"
  }
 },
 "nbformat": 4,
 "nbformat_minor": 0
}
