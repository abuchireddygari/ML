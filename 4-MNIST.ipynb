{
 "cells": [
  {
   "cell_type": "markdown",
   "metadata": {},
   "source": [
    "# Learning MNIST\n",
    "\n",
    "In this exercise you will design a classifier for the very simple but very popular [MNIST dataset](http://yann.lecun.com/exdb/mnist/), a classic of dataset in computer vision and one of the first real world problems solved by neural networks."
   ]
  },
  {
   "cell_type": "code",
   "execution_count": 16,
   "metadata": {
    "collapsed": false
   },
   "outputs": [],
   "source": [
    "%matplotlib inline\n",
    "\n",
    "import matplotlib.pyplot as plt\n",
    "import numpy as np\n",
    "\n",
    "from keras.datasets import mnist\n",
    "from keras.models import Sequential\n",
    "from keras.layers.core import Dense, Dropout, Activation\n",
    "from keras.optimizers import SGD, Adam, RMSprop\n",
    "from keras.utils import np_utils"
   ]
  },
  {
   "cell_type": "markdown",
   "metadata": {},
   "source": [
    "Keras provides access to a few simple datasets for convenience in the `keras.datasets` module. Here we will load MNIST, a standard benchmark dataset for image classification. This will download the dataset if you have run this code before."
   ]
  },
  {
   "cell_type": "code",
   "execution_count": 17,
   "metadata": {
    "collapsed": false
   },
   "outputs": [
    {
     "name": "stdout",
     "output_type": "stream",
     "text": [
      "(60000, 28, 28)\n"
     ]
    }
   ],
   "source": [
    "(X_train, y_train), (X_test, y_test) = mnist.load_data()\n",
    "print X_train.shape"
   ]
  },
  {
   "cell_type": "markdown",
   "metadata": {},
   "source": [
    "MNIST is a simple dataset of grayscale hand-written digits 28x28 pixels big. So there are 10 classes in the dataset corresponding to the digits 0-9. We can get a sense for what this dataset is like (always a good idea) by looking at some random samples for the training data:"
   ]
  },
  {
   "cell_type": "code",
   "execution_count": 18,
   "metadata": {
    "collapsed": false
   },
   "outputs": [
    {
     "data": {
      "text/plain": [
       "<matplotlib.image.AxesImage at 0x128bff990>"
      ]
     },
     "execution_count": 18,
     "metadata": {},
     "output_type": "execute_result"
    },
    {
     "data": {
      "image/png": "[encoded data removed]",
      "text/plain": [
       "<matplotlib.figure.Figure at 0x12878ce10>"
      ]
     },
     "metadata": {},
     "output_type": "display_data"
    }
   ],
   "source": [
    "plt.imshow(X_train[np.random.randint(len(X_train))], cmap='Greys')"
   ]
  },
  {
   "cell_type": "markdown",
   "metadata": {},
   "source": [
    "We need to do a little preprocessing of the dataset. Firstly, we will flatten the 28x28 images to a 784 dimensional vector. This is because our first model below does not care about the spatial dimensions, only the pixel values. The images are represented by numpy arrays of integers between 0 and 255. Since this is a fixed range, we should scale the values down to be from 0 to 1. This normalization simplifies things is usually a good idea, especially since weights are usually initialized randomly near zero.\n",
    "\n",
    "Read the code below and make sure you understand what we are doing to the data."
   ]
  },
  {
   "cell_type": "code",
   "execution_count": 19,
   "metadata": {
    "collapsed": false
   },
   "outputs": [
    {
     "name": "stdout",
     "output_type": "stream",
     "text": [
      "(60000, 'train samples')\n",
      "(10000, 'test samples')\n"
     ]
    }
   ],
   "source": [
    "X_train = X_train.reshape(60000, 784)\n",
    "X_test = X_test.reshape(10000, 784)\n",
    "X_train = X_train.astype('float32')\n",
    "X_test = X_test.astype('float32')\n",
    "X_train /= 255\n",
    "X_test /= 255\n",
    "print(X_train.shape[0], 'train samples')\n",
    "print(X_test.shape[0], 'test samples')"
   ]
  },
  {
   "cell_type": "code",
   "execution_count": 20,
   "metadata": {
    "collapsed": true
   },
   "outputs": [],
   "source": [
    "y_train = np_utils.to_categorical(y_train, 10)\n",
    "y_test = np_utils.to_categorical(y_test, 10)"
   ]
  },
  {
   "cell_type": "markdown",
   "metadata": {},
   "source": [
    "- - -\n",
    "### Exercise 1 - design an MLP for MNIST\n",
    "\n",
    "Build an MLP. It is up to you what the structure of the model will be, but keep in mind that this problem is much higher dimensional than previous problems we have worked on. This is your first chance to design a model on real data! See if you can get 90% accuracy or better.\n",
    "\n",
    "Here are some of the things you will need to decide about your model:\n",
    "* number of layers\n",
    "* activation function\n",
    "* number of dimensions in each layer\n",
    "* batch size\n",
    "* number of epochs\n",
    "* learning rate\n",
    "\n",
    "Suggestions:\n",
    "* You can pass the argument `verbose=2` to the `model.fit` method to quiet the output a bit, which will speed up the training as well.\n",
    "* You already divided the training and test data, but since you will be trying a series of experiments and changing your model, it is good practice to set aside a **validation** dataset for you to use to track your model improvements. You should only use the test data after you believe you have a good model to evaluate the final performance. Keras can create a validation set for you if you pass the `validation_split=0.1` argument to `model.fit` to tell Keras to hold out 10% of the training data to use as validation.\n",
    "* You can use the `plot_loss` if you find it useful in setting your learning rate etc. during your experiments.\n",
    "* You can refer to previous notebooks and the [documentation](http://keras.io/models/sequential/).\n",
    "\n",
    "If you want to talk over design decisions, feel free to ask!\n",
    "- - -"
   ]
  },
  {
   "cell_type": "code",
   "execution_count": 21,
   "metadata": {
    "collapsed": true
   },
   "outputs": [],
   "source": [
    "def plot_loss(hist):\n",
    "    loss = hist.history['loss']\n",
    "    plt.plot(range(len(loss)), loss)"
   ]
  },
  {
   "cell_type": "code",
   "execution_count": 42,
   "metadata": {
    "collapsed": false
   },
   "outputs": [
    {
     "name": "stdout",
     "output_type": "stream",
     "text": [
      "Train on 24000 samples, validate on 36000 samples\n",
      "Epoch 1/10\n",
      "62s - loss: 0.4406 - acc: 0.8752 - val_loss: 0.1954 - val_acc: 0.9478\n",
      "Epoch 2/10\n",
      "60s - loss: 0.2171 - acc: 0.9420 - val_loss: 0.1741 - val_acc: 0.9556\n",
      "Epoch 3/10\n",
      "61s - loss: 0.1773 - acc: 0.9541 - val_loss: 0.1797 - val_acc: 0.9575\n",
      "Epoch 4/10\n",
      "64s - loss: 0.1447 - acc: 0.9624 - val_loss: 0.1728 - val_acc: 0.9590\n",
      "Epoch 5/10\n",
      "61s - loss: 0.1273 - acc: 0.9659 - val_loss: 0.1784 - val_acc: 0.9603\n",
      "Epoch 6/10\n",
      "64s - loss: 0.1166 - acc: 0.9694 - val_loss: 0.1775 - val_acc: 0.9614\n",
      "Epoch 7/10\n",
      "60s - loss: 0.1009 - acc: 0.9727 - val_loss: 0.1515 - val_acc: 0.9685\n",
      "Epoch 8/10\n",
      "62s - loss: 0.0962 - acc: 0.9738 - val_loss: 0.1654 - val_acc: 0.9646\n",
      "Epoch 9/10\n",
      "59s - loss: 0.0826 - acc: 0.9773 - val_loss: 0.1831 - val_acc: 0.9651\n",
      "Epoch 10/10\n",
      "62s - loss: 0.0773 - acc: 0.9781 - val_loss: 0.1670 - val_acc: 0.9691\n",
      "____________________________________________________________________________________________________\n",
      "Layer (type)                     Output Shape          Param #     Connected to                     \n",
      "====================================================================================================\n",
      "dense_54 (Dense)                 (None, 784)           615440      dense_input_19[0][0]             \n",
      "____________________________________________________________________________________________________\n",
      "activation_53 (Activation)       (None, 784)           0           dense_54[0][0]                   \n",
      "____________________________________________________________________________________________________\n",
      "dropout_22 (Dropout)             (None, 784)           0           activation_53[0][0]              \n",
      "____________________________________________________________________________________________________\n",
      "dense_55 (Dense)                 (None, 49)            38465       dropout_22[0][0]                 \n",
      "____________________________________________________________________________________________________\n",
      "dropout_23 (Dropout)             (None, 49)            0           dense_55[0][0]                   \n",
      "____________________________________________________________________________________________________\n",
      "activation_54 (Activation)       (None, 49)            0           dropout_23[0][0]                 \n",
      "____________________________________________________________________________________________________\n",
      "dense_56 (Dense)                 (None, 24)            1200        activation_54[0][0]              \n",
      "____________________________________________________________________________________________________\n",
      "dropout_24 (Dropout)             (None, 24)            0           dense_56[0][0]                   \n",
      "____________________________________________________________________________________________________\n",
      "activation_55 (Activation)       (None, 24)            0           dropout_24[0][0]                 \n",
      "____________________________________________________________________________________________________\n",
      "dense_57 (Dense)                 (None, 10)            250         activation_55[0][0]              \n",
      "____________________________________________________________________________________________________\n",
      "activation_56 (Activation)       (None, 10)            0           dense_57[0][0]                   \n",
      "====================================================================================================\n",
      "Total params: 655,355\n",
      "Trainable params: 655,355\n",
      "Non-trainable params: 0\n",
      "____________________________________________________________________________________________________\n"
     ]
    }
   ],
   "source": [
    "model = Sequential()\n",
    "# Build the rest of you model\n",
    "\n",
    "model = Sequential()\n",
    "model.add(Dense(784, input_dim=784)) # Change the hidden layer to be 3 dimensional\n",
    "model.add(Activation('relu'))\n",
    "model.add(Dropout(0.15))\n",
    "model.add(Dense(784/16))\n",
    "model.add(Dropout(0.2))\n",
    "model.add(Activation('relu'))\n",
    "model.add(Dense(784/32))\n",
    "model.add(Dropout(0.2))\n",
    "model.add(Activation('relu'))\n",
    "model.add(Dense(10))\n",
    "# Add a 'relu' layer and Dense layer with an output of 2 dimensions\n",
    "model.add(Activation('softmax'))\n",
    "sgd = SGD(lr=0.01)\n",
    "adam = Adam()\n",
    "\n",
    "model.compile(loss='categorical_crossentropy',\n",
    "               optimizer=adam,\n",
    "               metrics=['accuracy'])\n",
    "\n",
    "model.fit(X_train, y_train, nb_epoch=10, batch_size=8, verbose=2, validation_split=0.6)\n",
    "\n",
    "model.summary()"
   ]
  },
  {
   "cell_type": "code",
   "execution_count": 45,
   "metadata": {
    "collapsed": false
   },
   "outputs": [
    {
     "name": "stdout",
     "output_type": "stream",
     "text": [
      "('Test score:', 0.14430141886289058)\n",
      "('Test accuracy:', 0.97219999999999995)\n"
     ]
    }
   ],
   "source": [
    "# Final test evaluation\n",
    "score = model.evaluate(X_test, y_test, verbose=0)\n",
    "print('Test score:', score[0])\n",
    "print('Test accuracy:', score[1])"
   ]
  },
  {
   "cell_type": "code",
   "execution_count": null,
   "metadata": {
    "collapsed": true
   },
   "outputs": [],
   "source": []
  }
 ],
 "metadata": {
  "kernelspec": {
   "display_name": "Python 2",
   "language": "python",
   "name": "python2"
  },
  "language_info": {
   "codemirror_mode": {
    "name": "ipython",
    "version": 2
   },
   "file_extension": ".py",
   "mimetype": "text/x-python",
   "name": "python",
   "nbconvert_exporter": "python",
   "pygments_lexer": "ipython2",
   "version": "2.7.13"
  }
 },
 "nbformat": 4,
 "nbformat_minor": 0
}
